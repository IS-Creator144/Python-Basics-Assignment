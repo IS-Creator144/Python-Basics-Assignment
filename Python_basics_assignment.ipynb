{
  "nbformat": 4,
  "nbformat_minor": 0,
  "metadata": {
    "colab": {
      "provenance": []
    },
    "kernelspec": {
      "name": "python3",
      "display_name": "Python 3"
    },
    "language_info": {
      "name": "python"
    }
  },
  "cells": [
    {
      "cell_type": "markdown",
      "source": [],
      "metadata": {
        "id": "ucIeCzReKU_Q"
      }
    },
    {
      "cell_type": "code",
      "source": [
        "# practical questions\n",
        "1. write a python program to print \"Hello, World!\""
      ],
      "metadata": {
        "id": "HPzcheyRKw9C"
      },
      "execution_count": null,
      "outputs": []
    },
    {
      "cell_type": "code",
      "source": [
        "print(\"Hello, World!\")"
      ],
      "metadata": {
        "colab": {
          "base_uri": "https://localhost:8080/"
        },
        "id": "ebXAEITkLVG1",
        "outputId": "3a9d4fc6-ee82-4f60-d0b5-aee5ed82cbd9"
      },
      "execution_count": 3,
      "outputs": [
        {
          "output_type": "stream",
          "name": "stdout",
          "text": [
            "Hello, World!\n"
          ]
        }
      ]
    },
    {
      "cell_type": "markdown",
      "source": [
        "2.Write a Python program that displays your name and age"
      ],
      "metadata": {
        "id": "U2uq66eQLTmt"
      }
    },
    {
      "cell_type": "code",
      "source": [
        "name=\"ISHRA\"\n",
        "age=22\n",
        "\n",
        "print(\"name:\",name)\n",
        "print(\"age:\",age)"
      ],
      "metadata": {
        "colab": {
          "base_uri": "https://localhost:8080/"
        },
        "id": "5Nn7g76WLs1B",
        "outputId": "6b83dbda-6795-4e37-8956-309e623fdd68"
      },
      "execution_count": 16,
      "outputs": [
        {
          "output_type": "stream",
          "name": "stdout",
          "text": [
            "name: ISHRA\n",
            "age: 22\n"
          ]
        }
      ]
    },
    {
      "cell_type": "markdown",
      "source": [
        "3.Write code to print all the pre-defined keywords in Python using the keyword library"
      ],
      "metadata": {
        "id": "nbSL8lXqS6ID"
      }
    },
    {
      "cell_type": "code",
      "source": [
        "import keyword\n",
        "\n",
        "#getting all the keywords\n",
        "keywords= keyword.kwlist\n",
        "\n",
        "#print\n",
        "print(\"python keywords:\")\n",
        "for kw in keywords:\n",
        "  print(kw)"
      ],
      "metadata": {
        "colab": {
          "base_uri": "https://localhost:8080/"
        },
        "outputId": "05b1f94b-a5ed-452e-b2a7-7d8713c168d8",
        "id": "oaOD5wrpS_Pz"
      },
      "execution_count": 18,
      "outputs": [
        {
          "output_type": "stream",
          "name": "stdout",
          "text": [
            "python keywords:\n",
            "False\n",
            "None\n",
            "True\n",
            "and\n",
            "as\n",
            "assert\n",
            "async\n",
            "await\n",
            "break\n",
            "class\n",
            "continue\n",
            "def\n",
            "del\n",
            "elif\n",
            "else\n",
            "except\n",
            "finally\n",
            "for\n",
            "from\n",
            "global\n",
            "if\n",
            "import\n",
            "in\n",
            "is\n",
            "lambda\n",
            "nonlocal\n",
            "not\n",
            "or\n",
            "pass\n",
            "raise\n",
            "return\n",
            "try\n",
            "while\n",
            "with\n",
            "yield\n"
          ]
        }
      ]
    },
    {
      "cell_type": "markdown",
      "source": [
        "4.Write a program that checks if a given word is a Python keyword."
      ],
      "metadata": {
        "id": "XTkU24lVTxrA"
      }
    },
    {
      "cell_type": "code",
      "source": [
        "import keyword\n",
        "\n",
        "#take input from user\n",
        "word = input (\"enter a word: \")\n",
        "\n",
        "#check if it is a keyword\n",
        "if keyword.iskeyword(word):\n",
        "  print(\"'{word}' is a python keyword.\")\n",
        "else:\n",
        "  print(\"'{word}' is not a python keyword.\")"
      ],
      "metadata": {
        "colab": {
          "base_uri": "https://localhost:8080/"
        },
        "id": "rcQeeb--SMIL",
        "outputId": "0f68c0a9-b195-4d4c-e6db-3efb8fc90c6f"
      },
      "execution_count": 22,
      "outputs": [
        {
          "output_type": "stream",
          "name": "stdout",
          "text": [
            "enter a word: def\n",
            "'{word}' is a python keyword.\n"
          ]
        }
      ]
    },
    {
      "cell_type": "markdown",
      "source": [
        "5 Create a list and tuple in Python, and demonstrate how attempting to change an element works differently for each."
      ],
      "metadata": {
        "id": "O_mGeVRlU3dI"
      }
    },
    {
      "cell_type": "code",
      "source": [
        "# list and tuple demonstration\n",
        "\n",
        "#list\n",
        "my_list=[10,20,30]\n",
        "print(\"original list: \",my_list)\n",
        "\n",
        "\n"
      ],
      "metadata": {
        "colab": {
          "base_uri": "https://localhost:8080/"
        },
        "id": "mvf6U20wVIMq",
        "outputId": "19a036ad-2139-4302-af4c-3a78dcb3b939"
      },
      "execution_count": 20,
      "outputs": [
        {
          "output_type": "stream",
          "name": "stdout",
          "text": [
            "original list:  [10, 20, 30]\n"
          ]
        }
      ]
    },
    {
      "cell_type": "code",
      "source": [
        "#change in an element of the list\n",
        "\n",
        "my_list[0]=21\n",
        "print(\"modified list: \",my_list)\n"
      ],
      "metadata": {
        "colab": {
          "base_uri": "https://localhost:8080/"
        },
        "id": "jCODAveiV669",
        "outputId": "b7694ad2-c995-4c7d-a300-823ac667c72d"
      },
      "execution_count": 23,
      "outputs": [
        {
          "output_type": "stream",
          "name": "stdout",
          "text": [
            "modified list:  [21, 20, 30]\n"
          ]
        }
      ]
    },
    {
      "cell_type": "code",
      "source": [
        "#tuple\n",
        "my_tuple=(5,4,3)\n",
        "print(my_tuple)"
      ],
      "metadata": {
        "colab": {
          "base_uri": "https://localhost:8080/"
        },
        "id": "diwGQ2qlWodj",
        "outputId": "03e0ba80-0296-46c5-80d5-b75098ae87e8"
      },
      "execution_count": 24,
      "outputs": [
        {
          "output_type": "stream",
          "name": "stdout",
          "text": [
            "(5, 4, 3)\n"
          ]
        }
      ]
    },
    {
      "cell_type": "code",
      "source": [
        "#changing element in tuple\n",
        "\n",
        "my_tuple[1]=9\n",
        "print(my_tuple)"
      ],
      "metadata": {
        "colab": {
          "base_uri": "https://localhost:8080/",
          "height": 193
        },
        "id": "rbv7rqFNXlxo",
        "outputId": "62c4a640-20db-42d1-9264-d85649904d8a"
      },
      "execution_count": 25,
      "outputs": [
        {
          "output_type": "error",
          "ename": "TypeError",
          "evalue": "'tuple' object does not support item assignment",
          "traceback": [
            "\u001b[0;31m---------------------------------------------------------------------------\u001b[0m",
            "\u001b[0;31mTypeError\u001b[0m                                 Traceback (most recent call last)",
            "\u001b[0;32m/tmp/ipython-input-2664050638.py\u001b[0m in \u001b[0;36m<cell line: 0>\u001b[0;34m()\u001b[0m\n\u001b[1;32m      1\u001b[0m \u001b[0;31m#changing element in tuple\u001b[0m\u001b[0;34m\u001b[0m\u001b[0;34m\u001b[0m\u001b[0m\n\u001b[1;32m      2\u001b[0m \u001b[0;34m\u001b[0m\u001b[0m\n\u001b[0;32m----> 3\u001b[0;31m \u001b[0mmy_tuple\u001b[0m\u001b[0;34m[\u001b[0m\u001b[0;36m1\u001b[0m\u001b[0;34m]\u001b[0m\u001b[0;34m=\u001b[0m\u001b[0;36m9\u001b[0m\u001b[0;34m\u001b[0m\u001b[0;34m\u001b[0m\u001b[0m\n\u001b[0m\u001b[1;32m      4\u001b[0m \u001b[0mprint\u001b[0m\u001b[0;34m(\u001b[0m\u001b[0mmy_tuple\u001b[0m\u001b[0;34m)\u001b[0m\u001b[0;34m\u001b[0m\u001b[0;34m\u001b[0m\u001b[0m\n",
            "\u001b[0;31mTypeError\u001b[0m: 'tuple' object does not support item assignment"
          ]
        }
      ]
    },
    {
      "cell_type": "markdown",
      "source": [
        "6.Write a function to demonstrate the behavior of mutable and immutable arguments\n"
      ],
      "metadata": {
        "id": "6LBfdDRRX29w"
      }
    },
    {
      "cell_type": "code",
      "source": [
        "def modify_elements(my_list, my_tuple):\n",
        "\n",
        "  my_list[0]=5\n",
        "  my_tuple[0]=40\n",
        ""
      ],
      "metadata": {
        "id": "zLZ-2fu8X-qK"
      },
      "execution_count": 26,
      "outputs": []
    },
    {
      "cell_type": "markdown",
      "source": [
        "7.. Write a program that performs basic arithmetic operations on two user-input numbers."
      ],
      "metadata": {
        "id": "Kfhb6qNva1-L"
      }
    },
    {
      "cell_type": "code",
      "source": [
        "# Basic Arithmetic Operations Program\n",
        "\n",
        "# Get input from the user\n",
        "num1 = float(input(\"Enter the first number: \"))\n",
        "num2 = float(input(\"Enter the second number: \"))\n",
        "\n",
        "# Perform operations\n",
        "addition = num1 + num2\n",
        "subtraction = num1 - num2\n",
        "multiplication = num1 * num2\n",
        "\n",
        "# Handle division by zero\n",
        "if num2 != 0:\n",
        "    division = num1 / num2\n",
        "else:\n",
        "    division = \"Undefined (division by zero)\"\n",
        "\n",
        "# Display results\n",
        "print(\"\\nResults:\")\n",
        "print(f\"{num1} + {num2} = {addition}\")\n",
        "print(f\"{num1} - {num2} = {subtraction}\")\n",
        "print(f\"{num1} * {num2} = {multiplication}\")\n",
        "print(f\"{num1} / {num2} = {division}\")\n"
      ],
      "metadata": {
        "colab": {
          "base_uri": "https://localhost:8080/"
        },
        "id": "XKi0RHOc8DMb",
        "outputId": "6b27ed05-6546-473e-e4e2-3f90d3f8cf72"
      },
      "execution_count": 31,
      "outputs": [
        {
          "output_type": "stream",
          "name": "stdout",
          "text": [
            "Enter the first number: 112.4\n",
            "Enter the second number: 21.4\n",
            "\n",
            "Results:\n",
            "112.4 + 21.4 = 133.8\n",
            "112.4 - 21.4 = 91.0\n",
            "112.4 * 21.4 = 2405.36\n",
            "112.4 / 21.4 = 5.252336448598132\n"
          ]
        }
      ]
    },
    {
      "cell_type": "markdown",
      "source": [
        "8. Write a program to demonstrate the use of logical operators.\n"
      ],
      "metadata": {
        "id": "Wguh2T_W82Xw"
      }
    },
    {
      "cell_type": "code",
      "source": [
        "# Logical Operators Demonstration\n",
        "\n",
        "print(\"Enter two boolean values (True/False):\")\n",
        "\n",
        "# User input\n",
        "a = input(\"Enter first value (True/False): \").strip().capitalize()\n",
        "b = input(\"Enter second value (True/False): \").strip().capitalize()\n",
        "\n",
        "# Convert to boolean\n",
        "if a == \"True\":\n",
        "    a = True\n",
        "elif a == \"False\":\n",
        "    a = False\n",
        "else:\n",
        "    print(\"Invalid input for first value.\")\n",
        "    exit()\n",
        "\n",
        "if b == \"True\":\n",
        "    b = True\n",
        "elif b == \"False\":\n",
        "    b = False\n",
        "else:\n",
        "    print(\"Invalid input for second value.\")\n",
        "    exit()\n",
        "\n",
        "# Demonstrate logical operators\n",
        "print(\"\\nResults of Logical Operations:\")\n",
        "print(f\"{a} AND {b} = {a and b}\")\n",
        "print(f\"{a} OR {b} = {a or b}\")\n",
        "print(f\"NOT {a} = {not a}\")\n",
        "print(f\"NOT {b} = {not b}\")\n"
      ],
      "metadata": {
        "colab": {
          "base_uri": "https://localhost:8080/"
        },
        "id": "BfuAbJOO8-mI",
        "outputId": "c0df57ab-07dd-4d0e-b658-5539cc738035"
      },
      "execution_count": 32,
      "outputs": [
        {
          "output_type": "stream",
          "name": "stdout",
          "text": [
            "Enter two boolean values (True/False):\n",
            "Enter first value (True/False): 12\n",
            "Enter second value (True/False): 67\n",
            "Invalid input for first value.\n",
            "Invalid input for second value.\n",
            "\n",
            "Results of Logical Operations:\n",
            "12 AND 67 = 67\n",
            "12 OR 67 = 12\n",
            "NOT 12 = False\n",
            "NOT 67 = False\n"
          ]
        }
      ]
    },
    {
      "cell_type": "markdown",
      "source": [],
      "metadata": {
        "id": "bsbgst3b9t0s"
      }
    },
    {
      "cell_type": "code",
      "source": [
        "#9.Write a Python program to convert user input from string to integer, float, and boolean types."
      ],
      "metadata": {
        "id": "-IHhvFf_9J3l"
      },
      "execution_count": null,
      "outputs": []
    },
    {
      "cell_type": "code",
      "source": [
        "# Conversion of string input to int, float, and bool\n",
        "\n",
        "# Get input from the user as string\n",
        "user_input = input(\"Enter a value: \")\n",
        "\n",
        "# Convert to integer\n",
        "try:\n",
        "    int_value = int(user_input)\n",
        "    print(f\"Integer conversion: {int_value}\")\n",
        "except ValueError:\n",
        "    print(\"Cannot convert to integer.\")\n",
        "\n",
        "# Convert to float\n",
        "try:\n",
        "    float_value = float(user_input)\n",
        "    print(f\"Float conversion: {float_value}\")\n",
        "except ValueError:\n",
        "    print(\"Cannot convert to float.\")\n",
        "\n",
        "# Convert to boolean\n",
        "# Any non-empty string except 'False' (case-insensitive) is considered True\n",
        "bool_value = user_input.strip().lower() != \"false\" and user_input.strip() != \"\"\n",
        "print(f\"Boolean conversion: {bool_value}\")\n"
      ],
      "metadata": {
        "colab": {
          "base_uri": "https://localhost:8080/"
        },
        "id": "AWV7sQ3_9yll",
        "outputId": "c96cebf3-1aec-4869-b277-ed6549bdaab6"
      },
      "execution_count": 1,
      "outputs": [
        {
          "output_type": "stream",
          "name": "stdout",
          "text": [
            "Enter a value: 48\n",
            "Integer conversion: 48\n",
            "Float conversion: 48.0\n",
            "Boolean conversion: True\n"
          ]
        }
      ]
    },
    {
      "cell_type": "code",
      "source": [],
      "metadata": {
        "id": "r6Ua3qly9786"
      },
      "execution_count": null,
      "outputs": []
    },
    {
      "cell_type": "markdown",
      "source": [
        "10.Write code to demonstrate type casting with list elements"
      ],
      "metadata": {
        "id": "8o8uLozE-Beu"
      }
    },
    {
      "cell_type": "code",
      "source": [
        "# List of strings (from user input or any source)\n",
        "str_list = [\"10\", \"20.5\", \"True\", \"hello\", \"0\"]\n",
        "\n",
        "print(\"Original list (strings):\", str_list)\n",
        "\n",
        "# Convert to integers (where possible)\n",
        "int_list = []\n",
        "for item in str_list:\n",
        "    try:\n",
        "        int_list.append(int(float(item)))  # using float to handle values like \"20.5\"\n",
        "    except ValueError:\n",
        "        int_list.append(None)  # Placeholder for non-convertible values\n",
        "print(\"Converted to integers (or None):\", int_list)\n",
        "\n",
        "# Convert to floats (where possible)\n",
        "float_list = []\n",
        "for item in str_list:\n",
        "    try:\n",
        "        float_list.append(float(item))\n",
        "    except ValueError:\n",
        "        float_list.append(None)\n",
        "print(\"Converted to floats (or None):\", float_list)\n",
        "\n",
        "# Convert to booleans\n",
        "bool_list = [item.strip().lower() not in [\"false\", \"\", \"0\"] for item in str_list]\n",
        "print(\"Converted to booleans:\", bool_list)\n"
      ],
      "metadata": {
        "colab": {
          "base_uri": "https://localhost:8080/"
        },
        "id": "XIf85mDp-H23",
        "outputId": "8d7b03c1-1e30-48e6-f292-bfd1172ad5d8"
      },
      "execution_count": 2,
      "outputs": [
        {
          "output_type": "stream",
          "name": "stdout",
          "text": [
            "Original list (strings): ['10', '20.5', 'True', 'hello', '0']\n",
            "Converted to integers (or None): [10, 20, None, None, 0]\n",
            "Converted to floats (or None): [10.0, 20.5, None, None, 0.0]\n",
            "Converted to booleans: [True, True, True, True, False]\n"
          ]
        }
      ]
    },
    {
      "cell_type": "markdown",
      "source": [
        "11. Write a program that checks if a number is positive, negative, or zero"
      ],
      "metadata": {
        "id": "r85a4yat-WeN"
      }
    },
    {
      "cell_type": "code",
      "source": [
        "# Program to check if a number is positive, negative, or zero\n",
        "\n",
        "# Get user input\n",
        "try:\n",
        "    num = float(input(\"Enter a number: \"))\n",
        "\n",
        "    # Check conditions\n",
        "    if num > 0:\n",
        "        print(\"The number is positive.\")\n",
        "    elif num < 0:\n",
        "        print(\"The number is negative.\")\n",
        "    else:\n",
        "        print(\"The number is zero.\")\n",
        "\n",
        "except ValueError:\n",
        "    print(\"Invalid input. Please enter a numeric value.\")\n"
      ],
      "metadata": {
        "colab": {
          "base_uri": "https://localhost:8080/"
        },
        "id": "gVaPAZnQ-k3B",
        "outputId": "bbb18429-e2c5-49b3-fad9-8d28063d1478"
      },
      "execution_count": 3,
      "outputs": [
        {
          "output_type": "stream",
          "name": "stdout",
          "text": [
            "Enter a number: 12\n",
            "The number is positive.\n"
          ]
        }
      ]
    },
    {
      "cell_type": "markdown",
      "source": [
        "12.Write a for loop to print numbers from 1 to 10\n"
      ],
      "metadata": {
        "id": "Hxica38H-zWy"
      }
    },
    {
      "cell_type": "code",
      "source": [
        "# For loop to print numbers from 1 to 10\n",
        "\n",
        "for i in range(1, 11):\n",
        "    print(i)\n"
      ],
      "metadata": {
        "colab": {
          "base_uri": "https://localhost:8080/"
        },
        "id": "vHxoPyZb-9rT",
        "outputId": "776c8876-c668-41d4-dbd3-57612e19e420"
      },
      "execution_count": 4,
      "outputs": [
        {
          "output_type": "stream",
          "name": "stdout",
          "text": [
            "1\n",
            "2\n",
            "3\n",
            "4\n",
            "5\n",
            "6\n",
            "7\n",
            "8\n",
            "9\n",
            "10\n"
          ]
        }
      ]
    },
    {
      "cell_type": "markdown",
      "source": [
        "13.. Write a Python program to find the sum of all even numbers between 1 and 50"
      ],
      "metadata": {
        "id": "kmzY4FJs_L57"
      }
    },
    {
      "cell_type": "code",
      "source": [
        "# Initialize sum\n",
        "even_sum = 0\n",
        "\n",
        "# Loop through numbers from 1 to 50\n",
        "for i in range(1, 51):\n",
        "    if i % 2 == 0:\n",
        "        even_sum += i\n",
        "\n",
        "# Display the result\n",
        "print(\"The sum of all even numbers from 1 to 50 is:\", even_sum)\n"
      ],
      "metadata": {
        "colab": {
          "base_uri": "https://localhost:8080/"
        },
        "id": "D7d6aMgY_RW9",
        "outputId": "bb7bd26f-9c94-455a-cb69-30ea018a7b1f"
      },
      "execution_count": 5,
      "outputs": [
        {
          "output_type": "stream",
          "name": "stdout",
          "text": [
            "The sum of all even numbers from 1 to 50 is: 650\n"
          ]
        }
      ]
    },
    {
      "cell_type": "markdown",
      "source": [
        "14. Write a program to reverse a string using a while loop."
      ],
      "metadata": {
        "id": "kxWWadJo_iHY"
      }
    },
    {
      "cell_type": "code",
      "source": [
        "# Get input from the user\n",
        "original_str = input(\"Enter a string: \")\n",
        "\n",
        "# Initialize variables\n",
        "reversed_str = \"\"\n",
        "index = len(original_str) - 1\n",
        "\n",
        "# Loop through the string in reverse\n",
        "while index >= 0:\n",
        "    reversed_str += original_str[index]\n",
        "    index -= 1\n",
        "\n",
        "# Display the reversed string\n",
        "print(\"Reversed string:\", reversed_str)\n"
      ],
      "metadata": {
        "id": "MgTKvggi_B1a",
        "colab": {
          "base_uri": "https://localhost:8080/"
        },
        "outputId": "9bd018ff-826e-4736-bba8-c3f9c608b3d6"
      },
      "execution_count": 6,
      "outputs": [
        {
          "output_type": "stream",
          "name": "stdout",
          "text": [
            "Enter a string: hassan\n",
            "Reversed string: nassah\n"
          ]
        }
      ]
    },
    {
      "cell_type": "markdown",
      "source": [
        "15.Write a Python program to calculate the factorial of a number provided by the user using a while loop"
      ],
      "metadata": {
        "id": "26S73EAu_3gq"
      }
    },
    {
      "cell_type": "code",
      "source": [
        "# Get input from the user\n",
        "try:\n",
        "    num = int(input(\"Enter a non-negative integer: \"))\n",
        "\n",
        "    if num < 0:\n",
        "        print(\"Factorial is not defined for negative numbers.\")\n",
        "    else:\n",
        "        factorial = 1\n",
        "        i = 1\n",
        "\n",
        "        # Use while loop to calculate factorial\n",
        "        while i <= num:\n",
        "            factorial *= i\n",
        "            i += 1\n",
        "\n",
        "        print(f\"The factorial of {num} is {factorial}\")\n",
        "except ValueError:\n",
        "    print(\"Invalid input. Please enter a valid integer.\")\n"
      ],
      "metadata": {
        "colab": {
          "base_uri": "https://localhost:8080/"
        },
        "id": "ConZIU_sABkL",
        "outputId": "0972db08-6c75-4208-c0fd-492bba7570d6"
      },
      "execution_count": 7,
      "outputs": [
        {
          "output_type": "stream",
          "name": "stdout",
          "text": [
            "Enter a non-negative integer: -14\n",
            "Factorial is not defined for negative numbers.\n"
          ]
        }
      ]
    },
    {
      "cell_type": "code",
      "source": [],
      "metadata": {
        "id": "XdhQ_jLaAF4p"
      },
      "execution_count": null,
      "outputs": []
    },
    {
      "cell_type": "markdown",
      "source": [
        "#Theory questions:-\n",
        "1.What is Python, and why is it popular?\n",
        ":- Python is a programming language which his high level interpreted programming language that enables it's user to easily read and write.\n",
        "   It is popular because it is;\n",
        "   -Simple and easy to learn as its syntax are like plain english so even beginners can use it effiecently.\n",
        "   -It is versatile in nature it can be used for web development, data science, artifical intelligence, automation, etc.\n",
        "   -It has inbuilt liabraries in it like pandas, numpy, pytorch.\n",
        "   -It has a huge community support and framework which makes coding easy.\n",
        "  -Companies like Google, Netflix, Instagram, uses python.\n",
        "\n",
        " 2.What is an interpreter in Python?\n",
        " :- An interpreter is a program that reads abd executes your python code line by line that means  python interpreter  reads our code  one line at a time then translates each line into machine code that is 0s and 1s that\n",
        "    our computer understands and it executes the instructions immediately.\n",
        "\n",
        "3.What are pre-defined keywords in Python?\n",
        ":-Keywords are reserved words in python that have a speacial meaning, you cannot use them as variable name and they tell python how to interpret your code.\n",
        "  Example:- if,for,while,import,in,is,or,def,etc.\n",
        "\n",
        "4.Can keywords be used as variable names?\n",
        ":- NO, Keywords are case sensitive,they are reserved words tht pytho uses to define its syntax and structure, they cannot be used as variable name,function names or identifiers.\n",
        "\n",
        "5.What is mutability in Python?\n",
        ":- Mutability means if a object or element value can be changed or not after it is created\n",
        "-If an object can be changed it is mutable\n",
        "-If an object cannot be changed it is immutable.\n",
        "\n",
        "6.Why are lists mutable, but tuples are immutable?\n",
        ":- List are designed to be flexibile, they store data in a dynamic array that can gorw/shrink memory we can add,remove,change elements without creating a new object.\n",
        "   Tuples are designed for fixed collection they are stored in such a way that doesn't allow changes,they are faster to access.\n",
        "\n",
        "7.What is the difference between “==” and “is” operators in Python?\n",
        ":-'==' Equality operator this checks if values are the same or equal\n",
        "  \"is\" Identity operator this checks if both variable point to the same object in memory.\n",
        "\n",
        "8.What are logical operators in Python?\n",
        ":- LOgical operators are used to combine conditionl statements and return true or false\n",
        " There are 3 main logical operator\n",
        " and-returns true if both conditions are true\n",
        " or-returns true if at least one condition is true\n",
        " not-reserve the result.\n",
        "\n",
        "9.What is type casting in Python?\n",
        ":-Type casting eans conveting one data type into another.\n",
        "  There are 2 type of type casting\n",
        "  -Implicit type casting- done automatically by python,python converts smaller data types to larger ones to avoid data loss.\n",
        "  -Explicit type casting-done manually by programmer using in built functions.\n",
        "\n",
        "10.What is the difference between implicit and explicit type casting?\n",
        "  :- There are 2 type of type casting\n",
        "  -Implicit type casting- done automatically by python,python converts smaller data types to larger ones to avoid data loss.\n",
        "  -Explicit type casting-done manually by programmer using in built functions.\n",
        "\n",
        "11.What is the purpose of conditional statements in Python?\n",
        " :-They are used to make decision in your code they allow your program to execute certain blocks of code only if specific conditions are true.\n",
        " we use them to control the flow of program and to perform different actions based on different conditions. They make programs smarter and dynamic.\n",
        "\n",
        "12.How does the elif statement work?\n",
        ":-Python checks if conditions first,if the if is false it checks frist elif, if that elif is false it checks the next elif,if all conditons are false it runs the else block.\n",
        "\n",
        "13. What is the difference between for and while loops?\n",
        ":-For- used hen you know how many times you want to repeat,loops through a sequence,best for counting,iternating through lists,strings,etc.\n",
        "  While-used when you dont know how many times to repeat, keeps running while a condition is true, best for repeating untill a condition changes.\n",
        "\n",
        "14. Describe a scenario where a while loop is more suitable than a for loop?\n",
        ":-Scenario; keep asking for correct password\n",
        "\n",
        "imagine you are making a login system.\n",
        "-you dont know how many times a user will enter wrong password.\n",
        "-you want to keep asking until they get it right.\n",
        "\n",
        "This is perfect for a while loop because the number of tries is unknown."
      ],
      "metadata": {
        "id": "zueQZ21nAhv7"
      }
    }
  ]
}